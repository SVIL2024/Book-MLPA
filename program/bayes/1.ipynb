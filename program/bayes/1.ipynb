{
 "cells": [
  {
   "cell_type": "code",
   "execution_count": null,
   "metadata": {},
   "outputs": [],
   "source": [
    "from sklearn.naive_bayes import GaussianNB\n",
    "from sklearn.datasets import load_files\n",
    "from sklearn.feature_extraction.text import CountVectorizer\n",
    "from sklearn.datasets import fetch_20newsgroups_vectorized"
   ]
  },
  {
   "cell_type": "markdown",
   "metadata": {},
   "source": [
    "## 案例2"
   ]
  },
  {
   "cell_type": "code",
   "execution_count": 2,
   "metadata": {},
   "outputs": [
    {
     "name": "stdout",
     "output_type": "stream",
     "text": [
      "预测结果: ['无病' '无病' '有病']\n",
      "真实标签: ['无病' '无病' '有病']\n",
      "准确率: 1.0\n",
      "分类报告:\n",
      "               precision    recall  f1-score   support\n",
      "\n",
      "          无病       1.00      1.00      1.00         2\n",
      "          有病       1.00      1.00      1.00         1\n",
      "\n",
      "    accuracy                           1.00         3\n",
      "   macro avg       1.00      1.00      1.00         3\n",
      "weighted avg       1.00      1.00      1.00         3\n",
      "\n",
      "新患者预测结果: 有病\n"
     ]
    }
   ],
   "source": [
    "# 导入必要的库\n",
    "import numpy as np\n",
    "from sklearn.model_selection import train_test_split\n",
    "from sklearn.naive_bayes import CategoricalNB\n",
    "from sklearn.metrics import accuracy_score, classification_report\n",
    "from sklearn.preprocessing import OrdinalEncoder\n",
    "\n",
    "# 数据集使用了模拟的医疗数据，包含患者的症状特征和是否患病的标签\n",
    "# 数据格式：[体温(低/中/高), 血压(低/正常/高), 血糖(低/正常/高)]\n",
    "data = [\n",
    "[\"低\", \"正常\", \"低\", \"无病\"],\n",
    "[\"中\", \"正常\", \"正常\", \"无病\"],\n",
    "[\"高\", \"高\", \"高\", \"有病\"],\n",
    "[\"高\", \"正常\", \"高\", \"有病\"],\n",
    "[\"低\", \"低\", \"正常\", \"无病\"],\n",
    "[\"中\", \"高\", \"高\", \"有病\"],\n",
    "[\"低\", \"正常\", \"低\", \"无病\"],\n",
    "[\"高\", \"高\", \"正常\", \"有病\"],\n",
    "[\"中\", \"正常\", \"正常\", \"无病\"],\n",
    "[\"高\", \"低\", \"高\", \"有病\"]\n",
    "]\n",
    "\n",
    "# 将数据转换为特征和标签\n",
    "X = np.array([row[:-1] for row in data])  # 特征 (症状)\n",
    "y = np.array([row[-1] for row in data])   # 标签 (是否患病)\n",
    "\n",
    "# 使用 OrdinalEncoder 将字符串特征编码为数值，便于模型处理\n",
    "encoder = OrdinalEncoder()\n",
    "X_encoded = encoder.fit_transform(X)\n",
    "\n",
    "# 通过 train_test_split 将数据划分为训练集和测试集，确保模型评估的可靠性\n",
    "X_train, X_test, y_train, y_test = train_test_split(X_encoded, y, test_size=0.3, random_state=42)\n",
    "\n",
    "# 使用 CategoricalNB 实现朴素贝叶斯分类器，适用于离散特征\n",
    "model = CategoricalNB()  \n",
    "model.fit(X_train, y_train)\n",
    "\n",
    "# 在测试集上进行预测\n",
    "y_pred = model.predict(X_test)\n",
    "\n",
    "# 输出评估结果\n",
    "print(\"预测结果:\", y_pred)\n",
    "print(\"真实标签:\", y_test)\n",
    "print(\"准确率:\", accuracy_score(y_test, y_pred))\n",
    "print(\"分类报告:\\n\", classification_report(y_test, y_pred))\n",
    "\n",
    "# 示例：预测新患者是否患病，展示其在实际问题中的应用\n",
    "new_patient = [[\"高\", \"正常\", \"高\"]]  # 新患者的症状\n",
    "new_patient_encoded = encoder.transform(new_patient)  # 编码新患者数据\n",
    "prediction = model.predict(new_patient_encoded)\n",
    "print(\"新患者预测结果:\", prediction[0])"
   ]
  },
  {
   "cell_type": "markdown",
   "metadata": {},
   "source": [
    "## AODE"
   ]
  },
  {
   "cell_type": "code",
   "execution_count": null,
   "metadata": {},
   "outputs": [
    {
     "name": "stdout",
     "output_type": "stream",
     "text": [
      "半朴素贝叶斯（AODE）准确率: 0.6666666666666666\n",
      "半朴素贝叶斯（AODE）预测结果: [0 0 0]\n"
     ]
    }
   ],
   "source": [
    "# 导入必要的库\n",
    "import numpy as np\n",
    "from sklearn.model_selection import train_test_split\n",
    "from sklearn.naive_bayes import CategoricalNB\n",
    "from sklearn.metrics import accuracy_score\n",
    "\n",
    "# 定义 AODE 类\n",
    "class AODE:\n",
    "\tdef __init__(self):\n",
    "\t\t\"\"\"\n",
    "\t\t初始化 AODE 模型。\n",
    "\t\tself.models 用于存储多个“一对多依赖”模型。\n",
    "\t\t\"\"\"\n",
    "\t\tself.models = []\n",
    "\n",
    "\tdef fit(self, X, y):\n",
    "\t\t\"\"\"\n",
    "\t\t构建多个“一对多依赖”模型。\n",
    "\t\t对于每个特征 i，排除该特征后训练一个朴素贝叶斯模型。\n",
    "\t\t\"\"\"\n",
    "\t\tn_features = X.shape[1]  # 获取特征数量\n",
    "\t\tfor i in range(n_features):\n",
    "\t\t\tmodel = CategoricalNB()  # 使用 Scikit-learn 的朴素贝叶斯分类器\n",
    "\t\t\tmodel.fit(np.delete(X, i, axis=1), y)  # 排除第 i 个特征\n",
    "\t\t\tself.models.append(model)\n",
    "\t\n",
    "\tdef predict(self, X):\n",
    "\t\t\"\"\"\n",
    "\t\t对多个模型的结果进行加权平均。\n",
    "\t\t每个模型基于排除某个特征后的数据进行预测，最终取所有模型结果的平均值。\n",
    "\t\t\"\"\"\n",
    "\t\tpredictions = np.zeros((X.shape[0], len(self.models)))  # 初始化预测结果矩阵\n",
    "\t\tfor i, model in enumerate(self.models):\n",
    "\t\t\tpredictions[:, i] = model.predict(np.delete(X, i, axis=1))  # 排除第 i 个特征后预测\n",
    "\t\treturn np.round(predictions.mean(axis=1)).astype(int)  # 取平均值并四舍五入为整数\n",
    "\n",
    "# 模拟学生成绩数据集\n",
    "\"\"\"\n",
    "数据格式：[学习时间(小时), 作业完成率(%), 课堂参与度(0-5评分), 成绩是否优秀(0/1)]\n",
    "目标变量是成绩是否优秀（0 表示非优秀，1 表示优秀）。\n",
    "\"\"\"\n",
    "data = [\n",
    "[8, 90, 4, 1],  # 优秀\n",
    "[6, 70, 3, 0],  # 非优秀\n",
    "[10, 95, 5, 1], # 优秀\n",
    "[5, 60, 2, 0],  # 非优秀\n",
    "[7, 80, 4, 1],  # 优秀\n",
    "[4, 50, 1, 0],  # 非优秀\n",
    "[9, 85, 5, 1],  # 优秀\n",
    "[3, 40, 2, 0],  # 非优秀\n",
    "]\n",
    "\n",
    "# 将数据转换为特征和标签\n",
    "X = np.array([row[:-1] for row in data])  # 特征\n",
    "y = np.array([row[-1] for row in data])   # 标签\n",
    "\n",
    "# 数据集划分\n",
    "\"\"\"\n",
    "将数据集划分为训练集和测试集，比例为 7:3。\n",
    "random_state 固定随机种子以确保结果可复现。\n",
    "\"\"\"\n",
    "X_train, X_test, y_train, y_test = train_test_split(X, y, test_size=0.3, random_state=42)\n",
    "\n",
    "# 使用 AODE 进行训练和预测\n",
    "\"\"\"\n",
    "初始化 AODE 模型并进行训练。\n",
    "在测试集上进行预测，并计算准确率。\n",
    "\"\"\"\n",
    "aode_model = AODE()\n",
    "aode_model.fit(X_train, y_train)  # 训练 AODE 模型\n",
    "aode_pred = aode_model.predict(X_test)  # 在测试集上进行预测\n",
    "\n",
    "# 输出准确率和预测结果\n",
    "print(\"半朴素贝叶斯（AODE）准确率:\", accuracy_score(y_test, aode_pred))\n",
    "print(\"半朴素贝叶斯（AODE）预测结果:\", aode_pred)"
   ]
  }
 ],
 "metadata": {
  "kernelspec": {
   "display_name": "Python 3",
   "language": "python",
   "name": "python3"
  },
  "language_info": {
   "codemirror_mode": {
    "name": "ipython",
    "version": 3
   },
   "file_extension": ".py",
   "mimetype": "text/x-python",
   "name": "python",
   "nbconvert_exporter": "python",
   "pygments_lexer": "ipython3",
   "version": "3.9.21"
  }
 },
 "nbformat": 4,
 "nbformat_minor": 2
}
